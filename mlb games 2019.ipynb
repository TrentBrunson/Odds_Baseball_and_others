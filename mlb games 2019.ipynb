{
 "cells": [
  {
   "cell_type": "markdown",
   "id": "f2b25c7d",
   "metadata": {},
   "source": [
    "# MLB Games 2019"
   ]
  },
  {
   "cell_type": "markdown",
   "id": "2888803f",
   "metadata": {},
   "source": [
    "# \n",
    "AUTHOR: Jonathan Hewlett\n",
    "* COURSE: ANLY 615\n",
    "* PROGRAM: mlb-games-2019\n",
    "* PURPOSE: Calculate % of games won by each team\n",
    "* INPUT: CSV file with data from 2019 MLB regular season\n",
    "* PROCESS: Use pandas to read csv file, then calculate wins/total, then sort accordingly\n",
    "* OUTPUT: Team Name, wins, losses, division, games WON %\n",
    "* HONOR CODE: On my honor, as an Aggie, I have neither given nor received unauthorized aid on this academic work"
   ]
  },
  {
   "cell_type": "markdown",
   "id": "350fb56e",
   "metadata": {},
   "source": [
    "# * Load the MLB data from CSV file\n",
    "# * Calculate % won - based on wins/total games\n",
    "# * Sort by Division, then games won %"
   ]
  },
  {
   "cell_type": "code",
   "execution_count": 1,
   "id": "e2976958",
   "metadata": {},
   "outputs": [],
   "source": [
    "import pandas as pd"
   ]
  },
  {
   "cell_type": "code",
   "execution_count": 2,
   "id": "5f599b03",
   "metadata": {},
   "outputs": [],
   "source": [
    "def main():\n",
    "    # load data from mlb\n",
    "    mlb_data = pd.read_csv(\"data\\mlb-games-2019.csv\", names=('team name', 'wins', 'losses', 'division'))\n",
    "    # add won %\n",
    "    mlb_data['game won percentage'] = round(mlb_data['wins']/(mlb_data['wins'] + mlb_data['losses'])* 100,2)\n",
    "    # sort on ascending order by division first and descending order by percent of games won\n",
    "    mlb_data = mlb_data.sort_values([\"division\", \"game won percentage\"], ascending = (True, False))\n",
    "    # export to csv\n",
    "    mlb_data.to_csv(r'mlb-division-standings-2019.csv', index = False, header=True)\n",
    "    return mlb_data\n",
    "\n",
    "if __name__ == '__main__':\n",
    "    main()"
   ]
  },
  {
   "cell_type": "code",
   "execution_count": null,
   "id": "fcceec9f",
   "metadata": {},
   "outputs": [],
   "source": []
  }
 ],
 "metadata": {
  "interpreter": {
   "hash": "ac59ebe37160ed0dfa835113d9b8498d9f09ceb179beaac4002f036b9467c963"
  },
  "kernelspec": {
   "display_name": "Python 3.9.7 64-bit",
   "name": "python3"
  },
  "language_info": {
   "codemirror_mode": {
    "name": "ipython",
    "version": 3
   },
   "file_extension": ".py",
   "mimetype": "text/x-python",
   "name": "python",
   "nbconvert_exporter": "python",
   "pygments_lexer": "ipython3",
   "version": "3.9.7"
  }
 },
 "nbformat": 4,
 "nbformat_minor": 5
}
