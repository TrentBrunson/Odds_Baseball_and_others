{
 "cells": [
  {
   "cell_type": "markdown",
   "metadata": {},
   "source": [
    "# Beat the Odds\n",
    "\n",
    "### We created a program to roll two dice 10,000 times in sets of 24 to see how many double sixes turn up.  Then we evaluated it against the probability calculations that says in 24 rolls of the dice, you should see a double six at least once 49% of the time.\n",
    "\n",
    "### Creating the list to record the rolls was straightforward; there were differnces when generating two output files via two different functions.  These returned different values (looking back, that is expected or else the random generator called is not random enough).  After working with a team mate, we collapsed those functions into one.  We used the file as inputs instead of passing parameters between functions.\n",
    "\n",
    "### Finally, the program reports the results and visualizes the data in histograms and the distributions of the values was very, very even.  This model aligns very well with the probability calcuclations that double sixes will occur (35/36)^24, or about 49% of the time."
   ]
  },
  {
   "cell_type": "markdown",
   "metadata": {},
   "source": [
    "AUTHOR: Chirag Patel\n",
    "* COURSE: ANLY 615\n",
    "* PROGRAM: Probability of Doubles\n",
    "* PURPOSE: Track and report on the results of 240,000 rolls of two dice.  What are the odds?\n",
    "* INPUT: Random number generator\n",
    "* PROCESS: Use random number generator to simulate two dice; record the results; analyze and display the reulsts.  Using pandas for some calculations and data manipulation.\n",
    "* OUTPUT: Three files to record the results of the rolls and save the analysis.\n",
    "* HONOR CODE: On my honor, as an Aggie, I have neither given nor received unauthorized aid on this academic work"
   ]
  },
  {
   "cell_type": "code",
   "execution_count": 65,
   "metadata": {},
   "outputs": [
    {
     "name": "stdout",
     "output_type": "stream",
     "text": [
      "You just ran a set of 24 rolls, 10,000 times for a total of 240,000 rolls.\n",
      "Here is the distribution of values for the first die...fairly equal odds as expected.\n",
      "see image ('images\\die1_rolls.png')\n",
      "Here is the distribution of values for the second die...fairly equal odds as expected.\n",
      "see image ('images\\die2_rolls.png')\n",
      "You rolled doubles 39,945 times, or 16.64% of the time.\n",
      "You rolled double sixes 6,602 times, or 2.75% of the time.\n",
      "\n",
      "In 24 rolls, you typically see double sixes about 49% of the time.\n",
      "In your 10,000 sets of 24 dice rolls you rolled double sixes 49.46% of the time.\n",
      "\n",
      "Your results are in the range of what is expected.\n",
      "\n",
      "\n"
     ]
    },
    {
     "data": {
      "image/png": "[encoded data removed]",
      "text/plain": [
       "<Figure size 432x288 with 1 Axes>"
      ]
     },
     "metadata": {
      "needs_background": "light"
     },
     "output_type": "display_data"
    }
   ],
   "source": [
    "def rolldice(): #This function gets output for  4-c\n",
    "    import random\n",
    "    dieOne = 0\n",
    "    dieTwo = 0\n",
    "    doubleSix = 0\n",
    "    totalDoubleSix = 0\n",
    "    six = 6\n",
    "    line=\"\"\n",
    "    one = 1\n",
    "    zero = 0\n",
    "    listc = []\n",
    "    lofl = []\n",
    "    gline=\"\"\n",
    "\n",
    "    with open(\"roll.csv\", \"w\") as wfile:\n",
    "        with open(\"gambler.csv\", \"w\") as gfile:        \n",
    "            for i in range(1,10001):\n",
    "                line=\"\"\n",
    "                listc = []\n",
    "                gline=\"\"\n",
    "                doubleSix = 0\n",
    "                gline = str(i) + \",\" \n",
    "                for dice in range(1,25):\n",
    "                    line=\"\"\n",
    "                    dieOne = random.randint(1, 6)\n",
    "                    dieTwo = random.randint(1, 6)\n",
    "                    line = str(i) + \",\" + str(dice) + \",\" + str(dieOne) + \",\" + str(dieTwo) + \",\" \n",
    "                    if dieOne == dieTwo: # finds both die has same number\n",
    "                        line = line + str(one) + \",\"\n",
    "                    else:\n",
    "                        line = line + str(zero) + \",\"\n",
    "\n",
    "                    if dieOne == six and dieTwo == six: # finds both die has number six\n",
    "                        line = line + str(one) \n",
    "                        doubleSix += 1\n",
    "                        totalDoubleSix += 1\n",
    "                    else:\n",
    "                        line = line + str(zero)\n",
    "                    listc.append(line)\n",
    "                    wfile.write(f\"{line}\\n\")\n",
    "                if doubleSix >= 1:\n",
    "                    gline = str(i) + \",\" + \"True\" + \",\" + \"Gambler\" + \",\" + str(doubleSix)\n",
    "                else:\n",
    "                    gline = str(i) + \",\" + \"False\" + \",\" + \"House\" + \",\" + str(zero)\n",
    "                gfile.write(f\"{gline}\\n\")\n",
    "            lofl.append(listc)            \n",
    "        gfile.close()\n",
    "    wfile.close()\n",
    "\n",
    "def analytics():\n",
    "    import pandas as pd\n",
    "    # loading data for analysis\n",
    "    # creating tables to evaluate the distribution of rolls\n",
    "    gamblerDF = pd.read_csv('gambler.csv', names=['group','double_six','winner','double_sixes'])\n",
    "    rollDF = pd.read_csv('roll.csv', names=(\n",
    "        'round_num', 'roll_num', 'die1', 'die2', 'doubles', 'double_six'))\n",
    "    # saving images of the die value histograms for the user to examine\n",
    "    a = rollDF.groupby('die1')['die1'].agg('count').plot.bar()\n",
    "    a.figure.savefig('images\\die1_rolls.png')\n",
    "    b = rollDF.groupby('die2')['die2'].agg('count').plot.bar()\n",
    "    b.figure.savefig('images\\die1_rolls.png')\n",
    "    # getting totals for stats calcs\n",
    "    double6 = rollDF['double_six'].sum()\n",
    "    doubles = rollDF['doubles'].sum()\n",
    "    setDoubles = gamblerDF[gamblerDF.winner == 'Gambler'].count()['winner']\n",
    "    print(\n",
    "        f\"You just ran a set of 24 rolls, 10,000 times for a total of 240,000 rolls.\\n\"\n",
    "        f\"Here is the distribution of values for the first die...fairly equal odds as expected.\\n\"\n",
    "        f\"see image ('images\\die1_rolls.png')\\n\"\n",
    "        f\"Here is the distribution of values for the second die...fairly equal odds as expected.\\n\"\n",
    "        f\"see image ('images\\die2_rolls.png')\\n\"\n",
    "        f\"You rolled doubles {doubles:,} times, or {doubles/240000:.2%} of the time.\\n\"\n",
    "        f\"You rolled double sixes {double6:,} times, or {double6/240000:.2%} of the time.\\n\\n\"\n",
    "        f\"In 24 rolls, you typically see double sixes about 49% of the time.\\n\"\n",
    "        f\"In your 10,000 sets of 24 dice rolls you rolled double sixes {setDoubles/10000:.2%} of the time.\\n\"    \n",
    "        )\n",
    "    if (setDoubles/10000) > .5:\n",
    "        print(\"Book your flight to Vegas, baby!\\n\\n\")\n",
    "    elif (double6/10000) > .4:\n",
    "        print(\"Your results are in the range of what is expected.\\n\\n\")\n",
    "    else:\n",
    "        print(\"Better luck next time.\\n\\n\")\n",
    "    # take the outputs and saving the same output to a txt file, less the graphs since the txt file cannot handle it.\n",
    "    with open('stats.txt', 'w') as f:\n",
    "        f.write(\n",
    "            f\"You just ran a set of 24 rolls, 10,000 times for a total of 240,000 rolls.\\n\"\n",
    "            f\"The distribution of values for the first die...fairly equal odds as expected.\\n\"\n",
    "            f\"see image ('images\\die1_rolls.png')\\n\"\n",
    "            f\"The distribution of values for the second die...fairly equal odds as expected.\\n\"\n",
    "            f\"see image ('images\\die2_rolls.png')\\n\"\n",
    "            f\"You rolled doubles {doubles:,} times, or {doubles/240000:.2%} of the time.\\n\"\n",
    "            f\"You rolled double sixes {double6:,} times, or {double6/240000:.2%} of the time.\\n\\n\"\n",
    "            f\"In 24 rolls, you typically see double sixes about 49% of the time.\\n\"\n",
    "            f\"In your 10,000 sets of 24 dice rolls you rolled double sixes {setDoubles/10000:.2%} of the time.\\n\"\n",
    "        )\n",
    "        if (setDoubles/10000) > .5:\n",
    "            f.write(\"Book your flight to Vegas, baby!\\n\\n\")\n",
    "        elif (double6/10000) > .4:\n",
    "            f.write(\"Your results are in the range of what is expected.\\n\\n\")\n",
    "        else:\n",
    "            f.write(\"Better luck next time.\\n\\n\")\n",
    "\n",
    "    return\n",
    "\n",
    "def main():\n",
    "    rolldice()\n",
    "    analytics()\n",
    "\n",
    "if __name__ == \"__main__\":\n",
    "    main()"
   ]
  },
  {
   "cell_type": "code",
   "execution_count": 15,
   "metadata": {},
   "outputs": [
    {
     "name": "stdout",
     "output_type": "stream",
     "text": [
      "        round_num  roll_num  die1  die2  doubles  double_six\n",
      "0               1         1     5     2        0           0\n",
      "1               1         2     5     6        0           0\n",
      "2               1         3     5     1        0           0\n",
      "3               1         4     1     3        0           0\n",
      "4               1         5     2     2        1           0\n",
      "...           ...       ...   ...   ...      ...         ...\n",
      "239995      10000        20     6     1        0           0\n",
      "239996      10000        21     4     1        0           0\n",
      "239997      10000        22     4     5        0           0\n",
      "239998      10000        23     3     5        0           0\n",
      "239999      10000        24     3     1        0           0\n",
      "\n",
      "[240000 rows x 6 columns]\n",
      "Index:  RangeIndex(start=0, stop=240000, step=1)\n",
      "Columns:  Index(['round_num', 'roll_num', 'die1', 'die2', 'doubles', 'double_six'], dtype='object')\n",
      "Size:  1440000\n",
      "Shape:  (240000, 6)\n",
      "Values:  [[    1     1     5     2     0     0]\n",
      " [    1     2     5     6     0     0]\n",
      " [    1     3     5     1     0     0]\n",
      " ...\n",
      " [10000    22     4     5     0     0]\n",
      " [10000    23     3     5     0     0]\n",
      " [10000    24     3     1     0     0]]\n",
      "<class 'pandas.core.frame.DataFrame'>\n",
      "RangeIndex: 240000 entries, 0 to 239999\n",
      "Data columns (total 6 columns):\n",
      " #   Column      Non-Null Count   Dtype\n",
      "---  ------      --------------   -----\n",
      " 0   round_num   240000 non-null  int64\n",
      " 1   roll_num    240000 non-null  int64\n",
      " 2   die1        240000 non-null  int64\n",
      " 3   die2        240000 non-null  int64\n",
      " 4   doubles     240000 non-null  int64\n",
      " 5   double_six  240000 non-null  int64\n",
      "dtypes: int64(6)\n",
      "memory usage: 11.0 MB\n",
      "Info:  None\n",
      "<class 'pandas.core.frame.DataFrame'>\n",
      "RangeIndex: 240000 entries, 0 to 239999\n",
      "Data columns (total 6 columns):\n",
      " #   Column      Non-Null Count   Dtype\n",
      "---  ------      --------------   -----\n",
      " 0   round_num   240000 non-null  int64\n",
      " 1   roll_num    240000 non-null  int64\n",
      " 2   die1        240000 non-null  int64\n",
      " 3   die2        240000 non-null  int64\n",
      " 4   doubles     240000 non-null  int64\n",
      " 5   double_six  240000 non-null  int64\n",
      "dtypes: int64(6)\n",
      "memory usage: 11.0 MB\n",
      "You just ran a set of 24 rolls, 10,000 times for a total of 240,000 rolls.\n",
      "You rolled doubles 39,819 times, or 16.59% of the time.\n",
      "You rolled double sixes 6,637 times, or 2.77% of the time.\n",
      "\n",
      "In 24 rolls, you typically see double sixes about 49% of the time.\n",
      "In your 10,000 sets of 24 dice rolls you rolled double sixes 66.37% of the time.\n",
      "\n",
      "Book your flight to Vegas, baby!\n",
      "\n",
      "\n"
     ]
    },
    {
     "data": {
      "text/plain": [
       "<AxesSubplot:xlabel='die2'>"
      ]
     },
     "execution_count": 15,
     "metadata": {},
     "output_type": "execute_result"
    },
    {
     "data": {
      "image/png": "[encoded data removed]",
      "text/plain": [
       "<Figure size 432x288 with 1 Axes>"
      ]
     },
     "metadata": {
      "needs_background": "light"
     },
     "output_type": "display_data"
    }
   ],
   "source": [
    "import random\n",
    "dieOne = 0\n",
    "dieTwo = 0\n",
    "doubleSix = 0\n",
    "totalDoubleSix = 0\n",
    "six = 6\n",
    "line=\"\"\n",
    "one = 1\n",
    "zero = 0\n",
    "listc = []\n",
    "lofl = []\n",
    "gline=\"\"\n",
    "\n",
    "with open(\"roll.csv\", \"w\") as wfile:\n",
    "    with open(\"gambler.csv\", \"w\") as gfile:        \n",
    "        for i in range(1,10001):\n",
    "            line=\"\"\n",
    "            listc = []\n",
    "            gline=\"\"\n",
    "            doubleSix = 0\n",
    "            gline = str(i) + \",\" \n",
    "            for dice in range(1,25):\n",
    "                line=\"\"\n",
    "                dieOne = random.randint(1, 6)\n",
    "                dieTwo = random.randint(1, 6)\n",
    "                line = str(i) + \",\" + str(dice) + \",\" + str(dieOne) + \",\" + str(dieTwo) + \",\" \n",
    "                if dieOne == dieTwo: # finds both die has same number\n",
    "                    line = line + str(one) + \",\"\n",
    "                else:\n",
    "                    line = line + str(zero) + \",\"\n",
    "\n",
    "                if dieOne == six and dieTwo == six: # finds both die has number six\n",
    "                    line = line + str(one) \n",
    "                    doubleSix += 1\n",
    "                    totalDoubleSix += 1\n",
    "                else:\n",
    "                    line = line + str(zero)\n",
    "                listc.append(line)\n",
    "                wfile.write(f\"{line}\\n\")\n",
    "            if doubleSix >= 1:\n",
    "                gline = str(i) + \",\" + \"True\" + \",\" + \"Gambler\" + \",\" + str(doubleSix)\n",
    "            else:\n",
    "                gline = str(i) + \",\" + \"False\" + \",\" + \"House\" + \",\" + str(zero)\n",
    "            gfile.write(f\"{gline}\\n\")\n",
    "        lofl.append(listc)            \n",
    "    gfile.close()\n",
    "wfile.close()\n",
    "\n",
    "import pandas as pd\n",
    "gamblerDF = pd.read_csv('gambler.csv')\n",
    "rollDF = pd.read_csv('roll.csv', names=(\n",
    "    'round_num', 'roll_num', 'die1', 'die2', 'doubles', 'double_six'))\n",
    "print(rollDF)\n",
    "print(\"Index: \", rollDF.index)\n",
    "print(\"Columns: \", rollDF.columns)\n",
    "print(\"Size: \", rollDF.size)\n",
    "print(\"Shape: \", rollDF.shape)\n",
    "print(\"Values: \", rollDF.values)\n",
    "print(\"Info: \", rollDF.info())\n",
    "rollDF.info()\n",
    "double6 = rollDF['double_six'].sum()\n",
    "doubles = rollDF['doubles'].sum()\n",
    "print(\n",
    "    f\"You just ran a set of 24 rolls, 10,000 times for a total of 240,000 rolls.\\n\"\n",
    "    f\"You rolled doubles {doubles:,} times, or {doubles/240000:.2%} of the time.\\n\"\n",
    "    f\"You rolled double sixes {double6:,} times, or {double6/240000:.2%} of the time.\\n\\n\"\n",
    "    f\"In 24 rolls, you typically see double sixes about 49% of the time.\\n\"\n",
    "    f\"In your 10,000 sets of 24 dice rolls you rolled double sixes {double6/10000:.2%} of the time.\\n\"    \n",
    "    )\n",
    "if (double6/10000) > .49:\n",
    "    print(\"Book your flight to Vegas, baby!\\n\\n\")\n",
    "elif (double6/10000) > .4:\n",
    "    print(\"Your results are in the range of what is expected.\\n\\n\")\n",
    "else:\n",
    "    print(\"Better luck next time.\\n\\n\")\n",
    "\n",
    "rollDF.groupby('die1')['die1'].agg('count').plot.bar()\n",
    "rollDF.groupby('die2')['die2'].agg('count').plot.bar()"
   ]
  },
  {
   "cell_type": "markdown",
   "metadata": {},
   "source": [
    "# Plots\n",
    "### Here are histograms for dice all of the dice rolls.  They should be fairly equal; they all appear to be so, indicating the randon number generator is random for this code."
   ]
  },
  {
   "cell_type": "code",
   "execution_count": 59,
   "metadata": {},
   "outputs": [
    {
     "data": {
      "text/plain": [
       "<AxesSubplot:xlabel='die1', ylabel='Count'>"
      ]
     },
     "execution_count": 59,
     "metadata": {},
     "output_type": "execute_result"
    },
    {
     "data": {
      "image/png": "[encoded data removed]",
      "text/plain": [
       "<Figure size 432x288 with 1 Axes>"
      ]
     },
     "metadata": {
      "needs_background": "light"
     },
     "output_type": "display_data"
    }
   ],
   "source": [
    "sns.histplot(rollDF['die1'], bins = 6, legend=False)\n"
   ]
  },
  {
   "cell_type": "code",
   "execution_count": 60,
   "metadata": {},
   "outputs": [
    {
     "data": {
      "text/plain": [
       "<AxesSubplot:xlabel='die2', ylabel='Count'>"
      ]
     },
     "execution_count": 60,
     "metadata": {},
     "output_type": "execute_result"
    },
    {
     "data": {
      "image/png": "[encoded data removed]",
      "text/plain": [
       "<Figure size 432x288 with 1 Axes>"
      ]
     },
     "metadata": {
      "needs_background": "light"
     },
     "output_type": "display_data"
    }
   ],
   "source": [
    "sns.histplot(rollDF['die2'], bins = 6, legend=False)\n"
   ]
  },
  {
   "cell_type": "code",
   "execution_count": 14,
   "metadata": {},
   "outputs": [
    {
     "data": {
      "text/plain": [
       "<AxesSubplot:xlabel='die1'>"
      ]
     },
     "execution_count": 14,
     "metadata": {},
     "output_type": "execute_result"
    },
    {
     "data": {
      "image/png": "[encoded data removed]",
      "text/plain": [
       "<Figure size 432x288 with 1 Axes>"
      ]
     },
     "metadata": {
      "needs_background": "light"
     },
     "output_type": "display_data"
    }
   ],
   "source": [
    "rollDF.groupby('die1')['die1'].agg('count').plot.bar()"
   ]
  },
  {
   "cell_type": "code",
   "execution_count": 58,
   "metadata": {},
   "outputs": [
    {
     "data": {
      "text/plain": [
       "<AxesSubplot:xlabel='die2'>"
      ]
     },
     "execution_count": 58,
     "metadata": {},
     "output_type": "execute_result"
    },
    {
     "data": {
      "image/png": "[encoded data removed]",
      "text/plain": [
       "<Figure size 432x288 with 1 Axes>"
      ]
     },
     "metadata": {
      "needs_background": "light"
     },
     "output_type": "display_data"
    }
   ],
   "source": [
    "g = rollDF.groupby('die2')['die2'].agg('count').plot.bar()\n",
    "g.figure.savefig('demo.png')"
   ]
  },
  {
   "cell_type": "code",
   "execution_count": null,
   "metadata": {},
   "outputs": [],
   "source": []
  }
 ],
 "metadata": {
  "interpreter": {
   "hash": "ac59ebe37160ed0dfa835113d9b8498d9f09ceb179beaac4002f036b9467c963"
  },
  "kernelspec": {
   "display_name": "Python 3.9.7 64-bit",
   "name": "python3"
  },
  "language_info": {
   "codemirror_mode": {
    "name": "ipython",
    "version": 3
   },
   "file_extension": ".py",
   "mimetype": "text/x-python",
   "name": "python",
   "nbconvert_exporter": "python",
   "pygments_lexer": "ipython3",
   "version": "3.9.7"
  },
  "orig_nbformat": 4
 },
 "nbformat": 4,
 "nbformat_minor": 2
}
