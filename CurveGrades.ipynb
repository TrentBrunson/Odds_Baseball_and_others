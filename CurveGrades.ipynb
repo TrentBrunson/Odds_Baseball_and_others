{
 "cells": [
  {
   "cell_type": "markdown",
   "id": "603eb4fb",
   "metadata": {},
   "source": []
  },
  {
   "cell_type": "markdown",
   "id": "174ea3d2",
   "metadata": {},
   "source": [
    "c) Load the file scores.txt and create a list called grades\n",
    "   Issues: had difficulties creating a simple function, but finally did it\n",
    "d) calculate mean score:\n",
    "   Issues: had to format the output as float, for it to work on next steps\n",
    "e) Calculate Standard Deviation:\n",
    "   Issues: had difficulties working out \"sum(x-mean)\", giving error with floating number not been \n",
    "   able to perform iterations, I couldnt figured out what it meant, so decided to work it out in a different way.\n",
    "f) Calculate statistics: count, max, min\n",
    "   Notes: this step was consisted on built in modelues in python\n",
    "g) Determine the grade in letters\n",
    "h) Outpot file\n",
    "i) DIsplay results\n",
    "\n",
    "    \n"
   ]
  },
  {
   "cell_type": "markdown",
   "id": "2c9c98a9",
   "metadata": {},
   "source": [
    "Import file 'scores.txt' as list called grades"
   ]
  },
  {
   "cell_type": "code",
   "execution_count": 4,
   "id": "bf47b7fb",
   "metadata": {},
   "outputs": [
    {
     "name": "stdout",
     "output_type": "stream",
     "text": [
      "This program reads a list of grades and computes the descriptive statistics\n",
      "and writes the grades on the curve output to a new file.\n",
      "\n",
      "Count:\t\t\t150\n",
      "Average:\t\t77.46\n",
      "Standard deviation:\t13.33\n",
      "Maximum:\t\t100\n",
      "Minimum:\t\t55\n",
      "\n",
      "Curved Grade - Cut Off Points (to 1 decimal place)\n",
      "A:   97.5\n",
      "B:   84.1\n",
      "C:   70.8\n",
      "D:   57.5\n",
      "\n",
      "GRADE DISTRIBUTION AFTER CURVING GRADES USING CUT \n",
      "OFF POINTS FROM ABOVE\n",
      "A:  11\tB:  43\tC:  45\tD:  42\tF:  9\t\n"
     ]
    }
   ],
   "source": [
    "def getFile():\n",
    "    with open(\"Scores.txt\") as myFile:\n",
    "        gradesList = [int(line.split()[0]) for line in myFile]\n",
    "    return gradesList\n",
    "\n",
    "def mean(grades):\n",
    "    return float(sum(grades) / len(grades))\n",
    "\n",
    "def stddev(grades, outMean):\n",
    "    return (mean([(x - outMean) ** 2 for x in grades]))**0.5\n",
    "\n",
    "def calcGradeLetter(grades, letterA, letterB, letterC, letterD):\n",
    "    newList = []        \n",
    "    gradeDict = {'A':0,'B':0,'C':0,'D':0,'F':0}\n",
    "    countA = 0\n",
    "    countB = 0\n",
    "    countC = 0\n",
    "    countD = 0\n",
    "    countF = 0\n",
    "    for grade in grades:\n",
    "        if grade >= round(letterA,1):\n",
    "            newList.append([grade,'A'])\n",
    "            countA += 1\n",
    "        elif grade >= round(letterB,1):\n",
    "            newList.append([grade,'B'])\n",
    "            countB += 1\n",
    "        elif grade >= round(letterC,1):\n",
    "            newList.append([grade,'C'])\n",
    "            countC += 1\n",
    "        elif grade >= round(letterD,1):\n",
    "            newList.append([grade,'D'])\n",
    "            countD += 1\n",
    "        else:\n",
    "            newList.append([grade,'F'])\n",
    "            countF += 1\n",
    "        gradeDict.update({'A':countA})\n",
    "        gradeDict.update({'B':countB})\n",
    "        gradeDict.update({'C':countC})\n",
    "        gradeDict.update({'D':countD})\n",
    "        gradeDict.update({'F':countF})\n",
    "            \n",
    "    return newList, gradeDict\n",
    "def fileWrite(outGradeLetter): \n",
    "    import csv\n",
    "    with open(\"Scores-and-Letter-Grades.txt\", \"w\", newline='') as file:\n",
    "        csv.writer(file, delimiter=\",\").writerows(outGradeLetter)\n",
    "    return\n",
    "def displayTable(outMax, outMin, outCount, outMean, outStd, letterA, letterB, letterC, letterD, gradeDict):\n",
    "    print(\n",
    "        f\"This program reads a list of grades and computes the descriptive statistics\\n\"\n",
    "        f\"and writes the grades on the curve output to a new file.\\n\\n\"\n",
    "        f\"Count:\\t\\t\\t{outCount}\\n\"\n",
    "        f\"Average:\\t\\t{round(outMean,2)}\\n\"\n",
    "        f\"Standard deviation:\\t{round(outStd,2)}\\n\"\n",
    "        f\"Maximum:\\t\\t{outMax}\\n\"\n",
    "        f\"Minimum:\\t\\t{outMin}\\n\\n\"\n",
    "        f\"Curved Grade - Cut Off Points (to 1 decimal place)\\n\"\n",
    "        f\"A:   {round(letterA,1)}\\n\"\n",
    "        f\"B:   {round(letterB,1)}\\n\"\n",
    "        f\"C:   {round(letterC,1)}\\n\"\n",
    "        f\"D:   {round(letterD,1)}\\n\\n\"\n",
    "        f\"GRADE DISTRIBUTION AFTER CURVING GRADES USING CUT \\nOFF POINTS FROM ABOVE\\n\"\n",
    "        f\"A:  {gradeDict['A']}\\tB:  {gradeDict['B']}\\tC:  {gradeDict['C']}\\tD:  {gradeDict['D']}\\tF:  {gradeDict['F']}\\t\"\n",
    "    )\n",
    "    # print(outGradeLetter[-1])\n",
    "\n",
    "    return\n",
    "def main():\n",
    "    grades = getFile()\n",
    "    outCount = len(grades)\n",
    "    outMax = max(grades)\n",
    "    outMin = min(grades)\n",
    "    outMean = mean(grades)\n",
    "    outStd = stddev(grades, outMean)\n",
    "    letterA = outMean + 1.5*outStd\n",
    "    letterB = outMean + 0.5*outStd\n",
    "    letterC = outMean - 0.5*outStd\n",
    "    letterD = outMean - 1.5*outStd\n",
    "    gradeList, gradeDict = calcGradeLetter(grades, letterA, letterB, letterC, letterD)\n",
    "    fileWrite(gradeList)\n",
    "    displayTable(outMax, outMin, outCount, outMean, outStd, letterA, letterB, letterC, letterD, gradeDict)\n",
    "    \n",
    "\n",
    "if __name__ == \"__main__\":\n",
    "    main()"
   ]
  },
  {
   "cell_type": "raw",
   "id": "e3e9dfe4",
   "metadata": {},
   "source": []
  }
 ],
 "metadata": {
  "interpreter": {
   "hash": "ac59ebe37160ed0dfa835113d9b8498d9f09ceb179beaac4002f036b9467c963"
  },
  "kernelspec": {
   "display_name": "Python 3.9.7 64-bit",
   "name": "python3"
  },
  "language_info": {
   "codemirror_mode": {
    "name": "ipython",
    "version": 3
   },
   "file_extension": ".py",
   "mimetype": "text/x-python",
   "name": "python",
   "nbconvert_exporter": "python",
   "pygments_lexer": "ipython3",
   "version": "3.9.7"
  }
 },
 "nbformat": 4,
 "nbformat_minor": 5
}
