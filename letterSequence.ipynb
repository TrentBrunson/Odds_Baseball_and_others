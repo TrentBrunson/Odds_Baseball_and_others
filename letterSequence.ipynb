{
 "cells": [
  {
   "cell_type": "markdown",
   "metadata": {},
   "source": [
    "# Letter Sequences\n",
    "### "
   ]
  },
  {
   "cell_type": "markdown",
   "metadata": {},
   "source": [
    "#### AUTHOR:     Trent Brunson\n",
    "* COURSE:     ANLY 615\n",
    "* PROGRAM:    Abecedarian\n",
    "* PURPOSE:    Determine if the word or phrase has three sequential letters.\n",
    "* INPUT:      user word/phrase\n",
    "* PROCESS:    treat the input as a list of characters and cycle through the list\n",
    "* OUTPUT:     yes or no, the word has three sequential characters\n",
    "* HONOR CODE: On my honor, as an Aggie, I have neither given nor received unauthorized aid on this academic work."
   ]
  },
  {
   "cell_type": "markdown",
   "metadata": {},
   "source": [
    "#### This was very similar to finding abecedarian words.  \n",
    "* Get input\n",
    "* Assign stripped user input to new variable while handling exceptions\n",
    "* Iterate through the string character by character\n",
    "* Return results\n",
    "\n",
    "This was set up in a loop to allow the user to continue as long as needed.\n",
    "\n",
    "One challenge was stripping stray characters.  Stripping for letters worked, but it did not allow for punctuation in sentences.  Then filtering spaces and allowing for special characters and numbers did not return the string until invoking the .join() method.  Another was error handling logic for exceptions in the test code, which actually became easier when passing parameters amongst functions."
   ]
  },
  {
   "cell_type": "code",
   "execution_count": 3,
   "metadata": {},
   "outputs": [
    {
     "name": "stdout",
     "output_type": "stream",
     "text": [
      "This program will determine if your phrase has three letters in sequential order.\n",
      "1a2b3c has three sequential letters.\n",
      "\n",
      "This program will determine if your phrase has three letters in sequential order.\n",
      "call me a cab, Carol has three sequential letters.\n",
      "\n",
      "This program will determine if your phrase has three letters in sequential order.\n",
      "Hi, John has three sequential letters.\n",
      "\n"
     ]
    }
   ],
   "source": [
    "### !/usr/bin/env python3#!/usr/bin/env python3\n",
    "def userInput():\n",
    "    # header telling user the purpose of the program and taking input\n",
    "    print(\"This program will determine if your phrase has three letters in sequential order.\")\n",
    "    entry = (input(\"Enter you word or phrase:\\n\"))\n",
    "    # remove numbers, spaces and special characters; convert to all lowercase for evaluation\n",
    "    # use .join to return string instead of iterable object from filter\n",
    "    userWord = ''.join(filter(str.isalpha, entry)).lower()\n",
    "    if len(userWord)<3:  # make sure the word is long enough for proecssing\n",
    "        print(\"You need to enter a word or phrase longer with 3 or more characters.\\n\")\n",
    "        entry == False\n",
    "    else: pass\n",
    "    return entry, userWord\n",
    "\n",
    "def result(userWord):\n",
    "    sequential = False\n",
    "    i,j = 0,1 # initialize counters for loops\n",
    "    for i in range(len(userWord)-1): # set length of loop to user input\n",
    "        # check if letters are sequential as looping through letters of the input\n",
    "        if (ord(userWord[i]) + 1) == (ord(userWord[i+1])):\n",
    "            j += 1 # increment inner counter only when two letters are sequential\n",
    "            if j == 3:\n",
    "                # if found three sequential letters in a row, \n",
    "                # return positive result and end processing\n",
    "                sequential = True\n",
    "                break\n",
    "        else:\n",
    "            j = 1 # reset counter to start with first letter \n",
    "    return sequential\n",
    "\n",
    "def output(expression, entry):\n",
    "    if expression == True:\n",
    "        print(f\"{entry} has three sequential letters.\\n\")\n",
    "    else: \n",
    "        print(f\"{entry} does not have three sequential letters.\\n\")\n",
    "    return\n",
    "\n",
    "def main():\n",
    "    choice = \"Y\"\n",
    "    while choice.upper() == \"Y\":\n",
    "        entry, compressedEntry = userInput()\n",
    "        # cycle to top of loop if entry isn't long enough to evaluate three characters\n",
    "        if entry == False:\n",
    "            continue\n",
    "        valid = result(compressedEntry)\n",
    "        output(valid,entry)\n",
    "        choice = input(\"Would you like to try again? (Y/N) \")\n",
    "    return\n",
    "\n",
    "if __name__ == \"__main__\":\n",
    "    main()"
   ]
  }
 ],
 "metadata": {
  "interpreter": {
   "hash": "d8da68e6e2385a8e82b1cf4d6a18d6c2155a17826740932617f592e825ba6377"
  },
  "kernelspec": {
   "display_name": "Python 3.9.7 64-bit",
   "name": "python3"
  },
  "language_info": {
   "codemirror_mode": {
    "name": "ipython",
    "version": 3
   },
   "file_extension": ".py",
   "mimetype": "text/x-python",
   "name": "python",
   "nbconvert_exporter": "python",
   "pygments_lexer": "ipython3",
   "version": "3.9.7"
  },
  "orig_nbformat": 4
 },
 "nbformat": 4,
 "nbformat_minor": 2
}
